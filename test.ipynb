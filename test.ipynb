{
 "cells": [
  {
   "cell_type": "code",
   "execution_count": 14,
   "metadata": {},
   "outputs": [],
   "source": [
    "import geopandas as gpd\n",
    "import pandas as pd\n",
    "import streamlit as st\n",
    "import folium\n",
    "import plotly.graph_objects as go\n",
    "from streamlit_folium import folium_static\n",
    "st.set_page_config(layout =\"wide\")"
   ]
  },
  {
   "cell_type": "code",
   "execution_count": 15,
   "metadata": {},
   "outputs": [],
   "source": [
    "accuracy = pd.read_csv(r'Data/accuracy_model.csv')\n",
    "accuracy.rename(columns={'Unnamed: 0':'Date'}, inplace=True)\n",
    "accuracy.drop(columns='month', inplace=True)\n",
    "accuracy.set_index('Date', inplace=True)"
   ]
  },
  {
   "cell_type": "code",
   "execution_count": 19,
   "metadata": {},
   "outputs": [
    {
     "data": {
      "text/plain": [
       "Index(['Predicted_PM2.5', 'PM2.5_station'], dtype='object')"
      ]
     },
     "execution_count": 19,
     "metadata": {},
     "output_type": "execute_result"
    }
   ],
   "source": [
    "accuracy.columns"
   ]
  },
  {
   "cell_type": "code",
   "execution_count": 18,
   "metadata": {},
   "outputs": [
    {
     "ename": "ValueError",
     "evalue": "Received row parameter but not col.\nrow and col must be specified together",
     "output_type": "error",
     "traceback": [
      "\u001b[1;31m---------------------------------------------------------------------------\u001b[0m",
      "\u001b[1;31mValueError\u001b[0m                                Traceback (most recent call last)",
      "Cell \u001b[1;32mIn[18], line 2\u001b[0m\n\u001b[0;32m      1\u001b[0m fig3 \u001b[39m=\u001b[39m go\u001b[39m.\u001b[39mFigure()\n\u001b[1;32m----> 2\u001b[0m fig3\u001b[39m.\u001b[39;49madd_trace(\n\u001b[0;32m      3\u001b[0m     go\u001b[39m.\u001b[39;49mBar(\n\u001b[0;32m      4\u001b[0m         x\u001b[39m=\u001b[39;49maccuracy\u001b[39m.\u001b[39;49mindex,\n\u001b[0;32m      5\u001b[0m         y\u001b[39m=\u001b[39;49maccuracy[\u001b[39m'\u001b[39;49m\u001b[39mPredicted_PM2.5\u001b[39;49m\u001b[39m'\u001b[39;49m],\n\u001b[0;32m      6\u001b[0m         hovertemplate\u001b[39m=\u001b[39;49m\u001b[39m\"\u001b[39;49m\u001b[39m%\u001b[39;49m\u001b[39m{y:.2f}\u001b[39;49;00m\u001b[39m\"\u001b[39;49m,\n\u001b[0;32m      7\u001b[0m         name\u001b[39m=\u001b[39;49m\u001b[39m'\u001b[39;49m\u001b[39mPredicted_PM2.5\u001b[39;49m\u001b[39m'\u001b[39;49m,\n\u001b[0;32m      8\u001b[0m     ),\n\u001b[0;32m      9\u001b[0m     go\u001b[39m.\u001b[39;49mBar( x\u001b[39m=\u001b[39;49maccuracy\u001b[39m.\u001b[39;49mindex,\n\u001b[0;32m     10\u001b[0m         y\u001b[39m=\u001b[39;49maccuracy[\u001b[39m'\u001b[39;49m\u001b[39mPM2.5_station\u001b[39;49m\u001b[39m'\u001b[39;49m],\n\u001b[0;32m     11\u001b[0m         hovertemplate\u001b[39m=\u001b[39;49m\u001b[39m\"\u001b[39;49m\u001b[39m%\u001b[39;49m\u001b[39m{y:.2f}\u001b[39;49;00m\u001b[39m\"\u001b[39;49m,\n\u001b[0;32m     12\u001b[0m         \u001b[39m# showlegend=False,\u001b[39;49;00m\n\u001b[0;32m     13\u001b[0m         name\u001b[39m=\u001b[39;49m\u001b[39m'\u001b[39;49m\u001b[39mPM2.5_station\u001b[39;49m\u001b[39m'\u001b[39;49m,\n\u001b[0;32m     14\u001b[0m          ),\n\u001b[0;32m     15\u001b[0m     \n\u001b[0;32m     16\u001b[0m )\n\u001b[0;32m     18\u001b[0m fig3\u001b[39m.\u001b[39mupdate_layout(barmode\u001b[39m=\u001b[39m\u001b[39m\"\u001b[39m\u001b[39mstack\u001b[39m\u001b[39m\"\u001b[39m)\n\u001b[0;32m     19\u001b[0m fig3\u001b[39m.\u001b[39mupdate_layout(\n\u001b[0;32m     20\u001b[0m     paper_bgcolor\u001b[39m=\u001b[39m\u001b[39m\"\u001b[39m\u001b[39m#bcbcbc\u001b[39m\u001b[39m\"\u001b[39m,\n\u001b[0;32m     21\u001b[0m     plot_bgcolor\u001b[39m=\u001b[39m\u001b[39m\"\u001b[39m\u001b[39m#f9e5e5\u001b[39m\u001b[39m\"\u001b[39m,\n\u001b[1;32m   (...)\u001b[0m\n\u001b[0;32m     25\u001b[0m     margin\u001b[39m=\u001b[39m\u001b[39mdict\u001b[39m(l\u001b[39m=\u001b[39m\u001b[39m50\u001b[39m, r\u001b[39m=\u001b[39m\u001b[39m50\u001b[39m, t\u001b[39m=\u001b[39m\u001b[39m50\u001b[39m, b\u001b[39m=\u001b[39m\u001b[39m50\u001b[39m)\n\u001b[0;32m     26\u001b[0m )\n",
      "File \u001b[1;32mc:\\Users\\Labtop\\anaconda3\\envs\\streamlib\\lib\\site-packages\\plotly\\graph_objs\\_figure.py:900\u001b[0m, in \u001b[0;36mFigure.add_trace\u001b[1;34m(self, trace, row, col, secondary_y, exclude_empty_subplots)\u001b[0m\n\u001b[0;32m    825\u001b[0m \u001b[39mdef\u001b[39;00m \u001b[39madd_trace\u001b[39m(\n\u001b[0;32m    826\u001b[0m     \u001b[39mself\u001b[39m, trace, row\u001b[39m=\u001b[39m\u001b[39mNone\u001b[39;00m, col\u001b[39m=\u001b[39m\u001b[39mNone\u001b[39;00m, secondary_y\u001b[39m=\u001b[39m\u001b[39mNone\u001b[39;00m, exclude_empty_subplots\u001b[39m=\u001b[39m\u001b[39mFalse\u001b[39;00m\n\u001b[0;32m    827\u001b[0m ) \u001b[39m-\u001b[39m\u001b[39m>\u001b[39m \u001b[39m\"\u001b[39m\u001b[39mFigure\u001b[39m\u001b[39m\"\u001b[39m:\n\u001b[0;32m    828\u001b[0m \u001b[39m    \u001b[39m\u001b[39m\"\"\"\u001b[39;00m\n\u001b[0;32m    829\u001b[0m \n\u001b[0;32m    830\u001b[0m \u001b[39m    Add a trace to the figure\u001b[39;00m\n\u001b[1;32m   (...)\u001b[0m\n\u001b[0;32m    898\u001b[0m \n\u001b[0;32m    899\u001b[0m \u001b[39m    \"\"\"\u001b[39;00m\n\u001b[1;32m--> 900\u001b[0m     \u001b[39mreturn\u001b[39;00m \u001b[39msuper\u001b[39;49m(Figure, \u001b[39mself\u001b[39;49m)\u001b[39m.\u001b[39;49madd_trace(\n\u001b[0;32m    901\u001b[0m         trace, row, col, secondary_y, exclude_empty_subplots\n\u001b[0;32m    902\u001b[0m     )\n",
      "File \u001b[1;32mc:\\Users\\Labtop\\anaconda3\\envs\\streamlib\\lib\\site-packages\\plotly\\basedatatypes.py:2065\u001b[0m, in \u001b[0;36mBaseFigure.add_trace\u001b[1;34m(self, trace, row, col, secondary_y, exclude_empty_subplots)\u001b[0m\n\u001b[0;32m   2063\u001b[0m \u001b[39m# Make sure we have both row and col or neither\u001b[39;00m\n\u001b[0;32m   2064\u001b[0m \u001b[39mif\u001b[39;00m row \u001b[39mis\u001b[39;00m \u001b[39mnot\u001b[39;00m \u001b[39mNone\u001b[39;00m \u001b[39mand\u001b[39;00m col \u001b[39mis\u001b[39;00m \u001b[39mNone\u001b[39;00m:\n\u001b[1;32m-> 2065\u001b[0m     \u001b[39mraise\u001b[39;00m \u001b[39mValueError\u001b[39;00m(\n\u001b[0;32m   2066\u001b[0m         \u001b[39m\"\u001b[39m\u001b[39mReceived row parameter but not col.\u001b[39m\u001b[39m\\n\u001b[39;00m\u001b[39m\"\u001b[39m\n\u001b[0;32m   2067\u001b[0m         \u001b[39m\"\u001b[39m\u001b[39mrow and col must be specified together\u001b[39m\u001b[39m\"\u001b[39m\n\u001b[0;32m   2068\u001b[0m     )\n\u001b[0;32m   2069\u001b[0m \u001b[39melif\u001b[39;00m col \u001b[39mis\u001b[39;00m \u001b[39mnot\u001b[39;00m \u001b[39mNone\u001b[39;00m \u001b[39mand\u001b[39;00m row \u001b[39mis\u001b[39;00m \u001b[39mNone\u001b[39;00m:\n\u001b[0;32m   2070\u001b[0m     \u001b[39mraise\u001b[39;00m \u001b[39mValueError\u001b[39;00m(\n\u001b[0;32m   2071\u001b[0m         \u001b[39m\"\u001b[39m\u001b[39mReceived col parameter but not row.\u001b[39m\u001b[39m\\n\u001b[39;00m\u001b[39m\"\u001b[39m\n\u001b[0;32m   2072\u001b[0m         \u001b[39m\"\u001b[39m\u001b[39mrow and col must be specified together\u001b[39m\u001b[39m\"\u001b[39m\n\u001b[0;32m   2073\u001b[0m     )\n",
      "\u001b[1;31mValueError\u001b[0m: Received row parameter but not col.\nrow and col must be specified together"
     ]
    }
   ],
   "source": [
    "fig3 = go.Figure()\n",
    "fig3.add_trace(\n",
    "    go.Bar(\n",
    "        x=accuracy.index,\n",
    "        y=accuracy['Predicted_PM2.5'],\n",
    "        hovertemplate=\"%{y:.2f}\",\n",
    "        name='Predicted_PM2.5',\n",
    "    ),\n",
    "    go.Bar(\n",
    "        x=accuracy.index,\n",
    "        y=accuracy['PM2.5_station'],\n",
    "        hovertemplate=\"%{y:.2f}\",\n",
    "        # showlegend=False,\n",
    "        name='PM2.5_station',\n",
    "         ),\n",
    "    \n",
    ")\n",
    "\n",
    "fig3.update_layout(barmode=\"stack\")\n",
    "fig3.update_layout(\n",
    "    paper_bgcolor=\"#bcbcbc\",\n",
    "    plot_bgcolor=\"#f9e5e5\",\n",
    "    width=800,\n",
    "    height=600,\n",
    "    title=f\"An assessment of Thailand was conducting using the model developing of this study.\",\n",
    "    margin=dict(l=50, r=50, t=50, b=50)\n",
    ")"
   ]
  },
  {
   "cell_type": "code",
   "execution_count": null,
   "metadata": {},
   "outputs": [],
   "source": [
    "go.Bar( x=accuracy.index,\n",
    "        y=accuracy['PM2.5_station'],\n",
    "        hovertemplate=\"%{y:.2f}\",\n",
    "        # showlegend=False,\n",
    "        name='PM2.5_station',\n",
    "         ),\n",
    "    "
   ]
  }
 ],
 "metadata": {
  "kernelspec": {
   "display_name": "streamlib",
   "language": "python",
   "name": "python3"
  },
  "language_info": {
   "codemirror_mode": {
    "name": "ipython",
    "version": 3
   },
   "file_extension": ".py",
   "mimetype": "text/x-python",
   "name": "python",
   "nbconvert_exporter": "python",
   "pygments_lexer": "ipython3",
   "version": "3.8.16"
  },
  "orig_nbformat": 4
 },
 "nbformat": 4,
 "nbformat_minor": 2
}
