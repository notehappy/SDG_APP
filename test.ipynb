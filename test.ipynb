{
 "cells": [
  {
   "cell_type": "code",
   "execution_count": 2,
   "metadata": {},
   "outputs": [],
   "source": [
    "# import geopandas as gpd\n",
    "import pandas as pd\n",
    "import geopandas as gpd\n",
    "import json\n"
   ]
  },
  {
   "cell_type": "code",
   "execution_count": 43,
   "metadata": {},
   "outputs": [],
   "source": [
    "da = pd.read_csv(r'Data/emssion_lampang_modis.csv')\n",
    "da.set_index('Date_Time', inplace=True)\n",
    "da1 = da.loc['2023-04-16 03:00:00']\n",
    "a = type(da1['CO'])"
   ]
  },
  {
   "cell_type": "code",
   "execution_count": 46,
   "metadata": {},
   "outputs": [
    {
     "data": {
      "text/plain": [
       "Date_Time\n",
       "2023-04-16 03:00:00    13797.058050\n",
       "2023-04-16 03:00:00        0.007127\n",
       "2023-04-16 03:00:00        0.007127\n",
       "2023-04-16 03:00:00        0.007127\n",
       "2023-04-16 03:00:00    13797.058050\n",
       "Name: CO, dtype: float64"
      ]
     },
     "execution_count": 46,
     "metadata": {},
     "output_type": "execute_result"
    }
   ],
   "source": [
    "da1['CO']"
   ]
  },
  {
   "cell_type": "code",
   "execution_count": 47,
   "metadata": {},
   "outputs": [
    {
     "data": {
      "text/plain": [
       "pandas.core.series.Series"
      ]
     },
     "execution_count": 47,
     "metadata": {},
     "output_type": "execute_result"
    }
   ],
   "source": [
    "a"
   ]
  },
  {
   "cell_type": "code",
   "execution_count": 40,
   "metadata": {},
   "outputs": [],
   "source": [
    "db = pd.read_csv(r'Data/emssion_lampang_himawari.csv')\n",
    "db.set_index('Date_Time', inplace=True)\n",
    "db1 = db.loc['2023-04-16 08:00:00']\n",
    "a = f'{type(db1)}'\n",
    "if a == \"<class 'pandas.core.series.Series'>\":\n",
    "    db2 = pd.DataFrame(db1[1:])\n",
    "    db2.columns = ['emisson (Kg)']\n",
    "elif a == \"<class 'pandas.core.frame.DataFrame'>\":\n",
    "    db2 = db1.copy()\n",
    "    db2.drop(columns = 'Id', axis = 1, inplace = True)\n",
    "    db2 = pd.DataFrame(db2.sum(), columns=['emisson (Kg)'])"
   ]
  },
  {
   "cell_type": "code",
   "execution_count": 50,
   "metadata": {},
   "outputs": [
    {
     "data": {
      "text/plain": [
       "0.0427648"
      ]
     },
     "execution_count": 50,
     "metadata": {},
     "output_type": "execute_result"
    }
   ],
   "source": [
    "db1['CO']"
   ]
  },
  {
   "cell_type": "code",
   "execution_count": 51,
   "metadata": {},
   "outputs": [],
   "source": [
    "if f\"{type(db1['CO'])}\" == \"<class 'numpy.float64'>\": #selecting 6 instead of CO\n",
    "    z = pd.Series(db1['CO'], index=['2023-04-16 08:00:00'])\n",
    "else:\n",
    "    z = db1['CO']"
   ]
  },
  {
   "cell_type": "code",
   "execution_count": 52,
   "metadata": {},
   "outputs": [
    {
     "data": {
      "text/plain": [
       "2023-04-16 08:00:00    0.042765\n",
       "dtype: float64"
      ]
     },
     "execution_count": 52,
     "metadata": {},
     "output_type": "execute_result"
    }
   ],
   "source": [
    "z"
   ]
  },
  {
   "cell_type": "code",
   "execution_count": null,
   "metadata": {},
   "outputs": [],
   "source": []
  }
 ],
 "metadata": {
  "kernelspec": {
   "display_name": "streamlib",
   "language": "python",
   "name": "python3"
  },
  "language_info": {
   "codemirror_mode": {
    "name": "ipython",
    "version": 3
   },
   "file_extension": ".py",
   "mimetype": "text/x-python",
   "name": "python",
   "nbconvert_exporter": "python",
   "pygments_lexer": "ipython3",
   "version": "3.9.13"
  },
  "orig_nbformat": 4
 },
 "nbformat": 4,
 "nbformat_minor": 2
}
