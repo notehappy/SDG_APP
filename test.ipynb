{
 "cells": [
  {
   "cell_type": "code",
   "execution_count": 1,
   "metadata": {},
   "outputs": [],
   "source": [
    "import geopandas as gpd\n",
    "import pandas as pd\n",
    "import streamlit as st\n",
    "import folium\n",
    "from streamlit_folium import folium_static\n",
    "st.set_page_config(layout =\"wide\")"
   ]
  },
  {
   "cell_type": "code",
   "execution_count": 10,
   "metadata": {},
   "outputs": [],
   "source": [
    "json = gpd.read_file(rf'D:\\2021_DataScience\\2023_streamlit\\SDG_app\\Data\\tha_admbnda_adm1_rtsd_201902_WGS.json')"
   ]
  },
  {
   "cell_type": "code",
   "execution_count": 3,
   "metadata": {},
   "outputs": [
    {
     "data": {
      "text/html": [
       "<div>\n",
       "<style scoped>\n",
       "    .dataframe tbody tr th:only-of-type {\n",
       "        vertical-align: middle;\n",
       "    }\n",
       "\n",
       "    .dataframe tbody tr th {\n",
       "        vertical-align: top;\n",
       "    }\n",
       "\n",
       "    .dataframe thead th {\n",
       "        text-align: right;\n",
       "    }\n",
       "</style>\n",
       "<table border=\"1\" class=\"dataframe\">\n",
       "  <thead>\n",
       "    <tr style=\"text-align: right;\">\n",
       "      <th></th>\n",
       "      <th>ADM1_EN</th>\n",
       "      <th>ADM1_TH</th>\n",
       "      <th>geometry</th>\n",
       "    </tr>\n",
       "  </thead>\n",
       "  <tbody>\n",
       "    <tr>\n",
       "      <th>0</th>\n",
       "      <td>Amnat Charoen</td>\n",
       "      <td>อำนาจเจริญ</td>\n",
       "      <td>POLYGON ((104.97872 16.27913, 104.97691 16.278...</td>\n",
       "    </tr>\n",
       "    <tr>\n",
       "      <th>1</th>\n",
       "      <td>Ang Thong</td>\n",
       "      <td>อ่างทอง</td>\n",
       "      <td>POLYGON ((100.45794 14.72110, 100.45789 14.721...</td>\n",
       "    </tr>\n",
       "    <tr>\n",
       "      <th>2</th>\n",
       "      <td>Bangkok</td>\n",
       "      <td>กรุงเทพมหานคร</td>\n",
       "      <td>POLYGON ((100.91398 13.94649, 100.91241 13.946...</td>\n",
       "    </tr>\n",
       "    <tr>\n",
       "      <th>3</th>\n",
       "      <td>Bueng Kan</td>\n",
       "      <td>บึงกาฬ</td>\n",
       "      <td>POLYGON ((104.18998 18.02374, 104.18873 18.025...</td>\n",
       "    </tr>\n",
       "    <tr>\n",
       "      <th>4</th>\n",
       "      <td>Buri Ram</td>\n",
       "      <td>บุรีรัมย์</td>\n",
       "      <td>POLYGON ((103.11140 15.48128, 103.11140 15.481...</td>\n",
       "    </tr>\n",
       "    <tr>\n",
       "      <th>...</th>\n",
       "      <td>...</td>\n",
       "      <td>...</td>\n",
       "      <td>...</td>\n",
       "    </tr>\n",
       "    <tr>\n",
       "      <th>72</th>\n",
       "      <td>Udon Thani</td>\n",
       "      <td>อุดรธานี</td>\n",
       "      <td>POLYGON ((103.39971 17.90458, 103.39971 17.904...</td>\n",
       "    </tr>\n",
       "    <tr>\n",
       "      <th>73</th>\n",
       "      <td>Uthai Thani</td>\n",
       "      <td>อุทัยธานี</td>\n",
       "      <td>POLYGON ((100.10187 15.41736, 100.10023 15.418...</td>\n",
       "    </tr>\n",
       "    <tr>\n",
       "      <th>74</th>\n",
       "      <td>Uttaradit</td>\n",
       "      <td>อุตรดิตถ์</td>\n",
       "      <td>POLYGON ((100.98885 17.74368, 100.98823 17.744...</td>\n",
       "    </tr>\n",
       "    <tr>\n",
       "      <th>75</th>\n",
       "      <td>Yala</td>\n",
       "      <td>ยะลา</td>\n",
       "      <td>POLYGON ((101.59243 6.56560, 101.59040 6.56486...</td>\n",
       "    </tr>\n",
       "    <tr>\n",
       "      <th>76</th>\n",
       "      <td>Yasothon</td>\n",
       "      <td>ยโสธร</td>\n",
       "      <td>POLYGON ((104.76607 16.19644, 104.76403 16.197...</td>\n",
       "    </tr>\n",
       "  </tbody>\n",
       "</table>\n",
       "<p>77 rows × 3 columns</p>\n",
       "</div>"
      ],
      "text/plain": [
       "          ADM1_EN        ADM1_TH  \\\n",
       "0   Amnat Charoen     อำนาจเจริญ   \n",
       "1       Ang Thong        อ่างทอง   \n",
       "2         Bangkok  กรุงเทพมหานคร   \n",
       "3       Bueng Kan         บึงกาฬ   \n",
       "4        Buri Ram      บุรีรัมย์   \n",
       "..            ...            ...   \n",
       "72     Udon Thani       อุดรธานี   \n",
       "73    Uthai Thani      อุทัยธานี   \n",
       "74      Uttaradit      อุตรดิตถ์   \n",
       "75           Yala           ยะลา   \n",
       "76       Yasothon          ยโสธร   \n",
       "\n",
       "                                             geometry  \n",
       "0   POLYGON ((104.97872 16.27913, 104.97691 16.278...  \n",
       "1   POLYGON ((100.45794 14.72110, 100.45789 14.721...  \n",
       "2   POLYGON ((100.91398 13.94649, 100.91241 13.946...  \n",
       "3   POLYGON ((104.18998 18.02374, 104.18873 18.025...  \n",
       "4   POLYGON ((103.11140 15.48128, 103.11140 15.481...  \n",
       "..                                                ...  \n",
       "72  POLYGON ((103.39971 17.90458, 103.39971 17.904...  \n",
       "73  POLYGON ((100.10187 15.41736, 100.10023 15.418...  \n",
       "74  POLYGON ((100.98885 17.74368, 100.98823 17.744...  \n",
       "75  POLYGON ((101.59243 6.56560, 101.59040 6.56486...  \n",
       "76  POLYGON ((104.76607 16.19644, 104.76403 16.197...  \n",
       "\n",
       "[77 rows x 3 columns]"
      ]
     },
     "execution_count": 3,
     "metadata": {},
     "output_type": "execute_result"
    }
   ],
   "source": [
    "json"
   ]
  },
  {
   "cell_type": "code",
   "execution_count": 6,
   "metadata": {},
   "outputs": [],
   "source": [
    "df = pd.read_excel(r'D:\\2021_DataScience\\2023_streamlit\\SDG_app\\Data\\sdg_monthly_TH(pro).xlsx')"
   ]
  },
  {
   "cell_type": "code",
   "execution_count": 11,
   "metadata": {},
   "outputs": [
    {
     "data": {
      "text/plain": [
       "Index([          'ADM1_EN', 2018-02-01 00:00:00, 2018-03-01 00:00:00,\n",
       "       2018-04-01 00:00:00, 2018-05-01 00:00:00, 2018-06-01 00:00:00,\n",
       "       2018-07-01 00:00:00, 2018-08-01 00:00:00, 2018-09-01 00:00:00,\n",
       "       2018-10-01 00:00:00, 2018-11-01 00:00:00, 2018-12-01 00:00:00,\n",
       "       2019-01-01 00:00:00, 2019-02-01 00:00:00, 2019-03-01 00:00:00,\n",
       "       2019-04-01 00:00:00, 2019-05-01 00:00:00, 2019-06-01 00:00:00,\n",
       "       2019-07-01 00:00:00, 2019-08-01 00:00:00, 2019-09-01 00:00:00,\n",
       "       2019-10-01 00:00:00, 2019-11-01 00:00:00, 2019-12-01 00:00:00,\n",
       "       2020-01-01 00:00:00, 2020-02-01 00:00:00, 2020-03-01 00:00:00,\n",
       "       2020-04-01 00:00:00, 2020-05-01 00:00:00, 2020-06-01 00:00:00,\n",
       "       2020-07-01 00:00:00, 2020-08-01 00:00:00, 2020-09-01 00:00:00,\n",
       "       2020-10-01 00:00:00, 2020-11-01 00:00:00, 2020-12-01 00:00:00,\n",
       "       2021-01-01 00:00:00, 2021-02-01 00:00:00, 2021-03-01 00:00:00,\n",
       "       2021-04-01 00:00:00, 2021-05-01 00:00:00, 2021-06-01 00:00:00,\n",
       "       2021-07-01 00:00:00, 2021-08-01 00:00:00, 2021-09-01 00:00:00,\n",
       "       2021-10-01 00:00:00, 2021-11-01 00:00:00, 2021-12-01 00:00:00],\n",
       "      dtype='object')"
      ]
     },
     "execution_count": 11,
     "metadata": {},
     "output_type": "execute_result"
    }
   ],
   "source": [
    "df.columns"
   ]
  },
  {
   "cell_type": "code",
   "execution_count": null,
   "metadata": {},
   "outputs": [],
   "source": []
  }
 ],
 "metadata": {
  "kernelspec": {
   "display_name": "streamlib",
   "language": "python",
   "name": "python3"
  },
  "language_info": {
   "codemirror_mode": {
    "name": "ipython",
    "version": 3
   },
   "file_extension": ".py",
   "mimetype": "text/x-python",
   "name": "python",
   "nbconvert_exporter": "python",
   "pygments_lexer": "ipython3",
   "version": "3.8.16"
  },
  "orig_nbformat": 4
 },
 "nbformat": 4,
 "nbformat_minor": 2
}
