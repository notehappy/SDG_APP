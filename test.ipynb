{
 "cells": [
  {
   "cell_type": "code",
   "execution_count": 2,
   "metadata": {},
   "outputs": [],
   "source": [
    "import geopandas as gpd\n",
    "import pandas as pd\n",
    "import streamlit as st\n",
    "import folium\n",
    "from streamlit_folium import folium_static\n",
    "st.set_page_config(layout =\"wide\")"
   ]
  },
  {
   "cell_type": "code",
   "execution_count": 3,
   "metadata": {},
   "outputs": [],
   "source": [
    "df = pd.read_csv(r'Data/sdg_monthly_TH(pro).csv')"
   ]
  },
  {
   "cell_type": "code",
   "execution_count": 4,
   "metadata": {},
   "outputs": [
    {
     "data": {
      "text/plain": [
       "Index(['ADM1_EN', 'February 2018', 'March 2018', 'April 2018', 'May 2018',\n",
       "       'June 2018', 'July 2018', 'August 2018', 'September 2018',\n",
       "       'October 2018', 'November 2018', 'December 2018', 'January 2019',\n",
       "       'February 2019', 'March 2019', 'April 2019', 'May 2019', 'June 2019',\n",
       "       'July 2019', 'August 2019', 'September 2019', 'October 2019',\n",
       "       'November 2019', 'December 2019', 'January 2020', 'February 2020',\n",
       "       'March 2020', 'April 2020', 'May 2020', 'June 2020', 'July 2020',\n",
       "       'August 2020', 'September 2020', 'October 2020', 'November 2020',\n",
       "       'December 2020', 'January 2021', 'February 2021', 'March 2021',\n",
       "       'April 2021', 'May 2021', 'June 2021', 'July 2021', 'August 2021',\n",
       "       'September 2021', 'October 2021', 'November 2021', 'December 2021'],\n",
       "      dtype='object')"
      ]
     },
     "execution_count": 4,
     "metadata": {},
     "output_type": "execute_result"
    }
   ],
   "source": [
    "df.columns"
   ]
  },
  {
   "cell_type": "code",
   "execution_count": null,
   "metadata": {},
   "outputs": [],
   "source": []
  }
 ],
 "metadata": {
  "kernelspec": {
   "display_name": "streamlib",
   "language": "python",
   "name": "python3"
  },
  "language_info": {
   "codemirror_mode": {
    "name": "ipython",
    "version": 3
   },
   "file_extension": ".py",
   "mimetype": "text/x-python",
   "name": "python",
   "nbconvert_exporter": "python",
   "pygments_lexer": "ipython3",
   "version": "3.8.16"
  },
  "orig_nbformat": 4
 },
 "nbformat": 4,
 "nbformat_minor": 2
}
